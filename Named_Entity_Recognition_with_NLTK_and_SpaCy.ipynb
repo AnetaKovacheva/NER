{
  "nbformat": 4,
  "nbformat_minor": 0,
  "metadata": {
    "colab": {
      "name": "Named Entity Recognition with NLTK and SpaCy.ipynb",
      "provenance": [],
      "collapsed_sections": [],
      "authorship_tag": "ABX9TyNQA4Ao3j4Uv0CerKy3mu98",
      "include_colab_link": true
    },
    "kernelspec": {
      "name": "python3",
      "display_name": "Python 3"
    },
    "language_info": {
      "name": "python"
    }
  },
  "cells": [
    {
      "cell_type": "markdown",
      "metadata": {
        "id": "view-in-github",
        "colab_type": "text"
      },
      "source": [
        "<a href=\"https://colab.research.google.com/github/AnetaKovacheva/NER/blob/main/Named_Entity_Recognition_with_NLTK_and_SpaCy.ipynb\" target=\"_parent\"><img src=\"https://colab.research.google.com/assets/colab-badge.svg\" alt=\"Open In Colab\"/></a>"
      ]
    },
    {
      "cell_type": "markdown",
      "source": [
        "# Named Entity Recognition with NLTK and SpaCy"
      ],
      "metadata": {
        "id": "upudA0EmVR0l"
      }
    },
    {
      "cell_type": "markdown",
      "source": [
        "In this Notebook, I explain what Named Entity Recognition is, and how it works. The example is demonstrated with a sentence taken from a public source, and an article from an online media. I use both `NLTK` and `SpaCy` libraries to preprocess data, to explain language elements, and to make the computer to name recognized entities. \n",
        "\n",
        "The work is inspired from an [article](https://towardsdatascience.com/named-entity-recognition-with-nltk-and-spacy-8c4a7d88e7da) in Towards Data Science but provides more explanations and technical details. Text and code are organized in several sections."
      ],
      "metadata": {
        "id": "tYavSHwdGykK"
      }
    },
    {
      "cell_type": "markdown",
      "source": [
        "### Imports"
      ],
      "metadata": {
        "id": "YIscIUm1IHU-"
      }
    },
    {
      "cell_type": "code",
      "execution_count": 1,
      "metadata": {
        "colab": {
          "base_uri": "https://localhost:8080/"
        },
        "id": "xtmcpCsKNnix",
        "outputId": "d54c8276-a081-44a5-f8c8-80f803d643ab"
      },
      "outputs": [
        {
          "output_type": "stream",
          "name": "stderr",
          "text": [
            "[nltk_data] Downloading package punkt to /root/nltk_data...\n",
            "[nltk_data]   Package punkt is already up-to-date!\n",
            "[nltk_data] Downloading package averaged_perceptron_tagger to\n",
            "[nltk_data]     /root/nltk_data...\n",
            "[nltk_data]   Package averaged_perceptron_tagger is already up-to-\n",
            "[nltk_data]       date!\n",
            "[nltk_data] Downloading package maxent_ne_chunker to\n",
            "[nltk_data]     /root/nltk_data...\n",
            "[nltk_data]   Package maxent_ne_chunker is already up-to-date!\n",
            "[nltk_data] Downloading package words to /root/nltk_data...\n",
            "[nltk_data]   Package words is already up-to-date!\n"
          ]
        }
      ],
      "source": [
        "from collections import Counter\n",
        "from pprint import pprint\n",
        "import requests\n",
        "import re\n",
        "\n",
        "import nltk\n",
        "nltk.download('punkt')\n",
        "nltk.download('averaged_perceptron_tagger')\n",
        "nltk.download('maxent_ne_chunker')\n",
        "nltk.download('words')\n",
        "from nltk.tokenize import word_tokenize\n",
        "from nltk.tag import pos_tag\n",
        "from nltk.chunk import conlltags2tree, tree2conlltags\n",
        "\n",
        "import spacy\n",
        "from spacy import displacy\n",
        "import en_core_web_sm\n",
        "\n",
        "from bs4 import BeautifulSoup"
      ]
    },
    {
      "cell_type": "markdown",
      "source": [
        "Named entity recognition (NER), also referred to as entity chunking, extraction, or identification, is the task of identifying and categorizing key information (entities) in text. An entity can be any word or series of words that consistently refers to the same thing. Every detected entity is classified into a predetermined category. For example, a machine learning (ML) model might detect the word “super.AI” in a text and classify it as a “Company”.\n",
        "\n",
        "NER is a form of Natural Language Processing (NLP), a subfield of Artificial Intelligence. NLP is concerned with computers processing and analyzing natural language, i.e., any language that has developed naturally, rather than artificially, such as with computer coding languages.\n",
        "\n",
        "To demonstrate how NER works, we need a sequence of strings - a sentence or an article (or a larger body of text)."
      ],
      "metadata": {
        "id": "fgALJPwBv_Wq"
      }
    },
    {
      "cell_type": "markdown",
      "source": [
        "# 1. Analyze a sentence and its elements with `NLTK`"
      ],
      "metadata": {
        "id": "kgt2AgnDIL-y"
      }
    },
    {
      "cell_type": "markdown",
      "source": [
        "A sentence is taken from a Politico.eu [article](https://www.politico.eu/article/putin-macron-agree-expert-mission-zaporizhzhia-nuclear-plant-ukraine/) and stored in a variable so at to demonstrate how Named Entity Recognition works."
      ],
      "metadata": {
        "id": "VBiXTygKJMN9"
      }
    },
    {
      "cell_type": "code",
      "source": [
        "sentence = \"During a phone call on Friday, Emmanuel Macron and Vladimir Putin agreed that a team from the International Atomic Energy Agency (IAEA) should be sent to the Zaporizhzhia nuclear power plant in Ukraine, according to the French president's office and the Kremlin.\""
      ],
      "metadata": {
        "id": "Gyqht_ZgInOg"
      },
      "execution_count": 2,
      "outputs": []
    },
    {
      "cell_type": "markdown",
      "source": [
        "A function (see below) helps for tokenizing and placing tags on the words. `word_tokenize` takes a string (sentence, longer text) and divides it into  lists of substrings (e.g., words and punctuation marks). `pos_tag` tags words according their part-of-speech role. "
      ],
      "metadata": {
        "id": "yW8D196CJzcS"
      }
    },
    {
      "cell_type": "code",
      "source": [
        "def preprocess(sent):\n",
        "  \"\"\"\n",
        "  Tokenizes a string and tags with part-of-speech recognized tokens.\n",
        "  Args: string\n",
        "  Returns: a list of tuples each containing a token and its associated \n",
        "        part-of-speech\n",
        "  \"\"\"\n",
        "  sent = nltk.word_tokenize(sent)\n",
        "  sent = nltk.pos_tag(sent)\n",
        "  \n",
        "  return sent"
      ],
      "metadata": {
        "id": "YF_QS8-sOA_q"
      },
      "execution_count": 3,
      "outputs": []
    },
    {
      "cell_type": "markdown",
      "source": [
        "Each word (token) is taged with its associated part-of-speech. For example, *During* (IN) is marked as preposition/subordinating conjunction, *phone* (NN) - singular noun, *Friday* (NNP) - proper noun, singular, *Macron* (NNP) - also proper noun in singular form, *sent* (VBN) - past participle form of a verb, and so on. All part-of-speech abbreviations are listed [here](https://www.guru99.com/pos-tagging-chunking-nltk.html)."
      ],
      "metadata": {
        "id": "fSKQuaYzNpjE"
      }
    },
    {
      "cell_type": "code",
      "source": [
        "sentence_preprocessed = preprocess(sentence)\n",
        "sentence_preprocessed "
      ],
      "metadata": {
        "colab": {
          "base_uri": "https://localhost:8080/"
        },
        "id": "G_UoTgr3ONHM",
        "outputId": "04c6d087-eeac-4721-a696-3afbc93535ce"
      },
      "execution_count": 4,
      "outputs": [
        {
          "output_type": "execute_result",
          "data": {
            "text/plain": [
              "[('During', 'IN'),\n",
              " ('a', 'DT'),\n",
              " ('phone', 'NN'),\n",
              " ('call', 'NN'),\n",
              " ('on', 'IN'),\n",
              " ('Friday', 'NNP'),\n",
              " (',', ','),\n",
              " ('Emmanuel', 'NNP'),\n",
              " ('Macron', 'NNP'),\n",
              " ('and', 'CC'),\n",
              " ('Vladimir', 'NNP'),\n",
              " ('Putin', 'NNP'),\n",
              " ('agreed', 'VBD'),\n",
              " ('that', 'IN'),\n",
              " ('a', 'DT'),\n",
              " ('team', 'NN'),\n",
              " ('from', 'IN'),\n",
              " ('the', 'DT'),\n",
              " ('International', 'NNP'),\n",
              " ('Atomic', 'NNP'),\n",
              " ('Energy', 'NNP'),\n",
              " ('Agency', 'NNP'),\n",
              " ('(', '('),\n",
              " ('IAEA', 'NNP'),\n",
              " (')', ')'),\n",
              " ('should', 'MD'),\n",
              " ('be', 'VB'),\n",
              " ('sent', 'VBN'),\n",
              " ('to', 'TO'),\n",
              " ('the', 'DT'),\n",
              " ('Zaporizhzhia', 'NNP'),\n",
              " ('nuclear', 'JJ'),\n",
              " ('power', 'NN'),\n",
              " ('plant', 'NN'),\n",
              " ('in', 'IN'),\n",
              " ('Ukraine', 'NNP'),\n",
              " (',', ','),\n",
              " ('according', 'VBG'),\n",
              " ('to', 'TO'),\n",
              " ('the', 'DT'),\n",
              " ('French', 'JJ'),\n",
              " ('president', 'NN'),\n",
              " (\"'s\", 'POS'),\n",
              " ('office', 'NN'),\n",
              " ('and', 'CC'),\n",
              " ('the', 'DT'),\n",
              " ('Kremlin', 'NNP'),\n",
              " ('.', '.')]"
            ]
          },
          "metadata": {},
          "execution_count": 4
        }
      ]
    },
    {
      "cell_type": "markdown",
      "source": [
        "## 1.1. Chunk sentence into parts-of-speech and IOBs\n",
        "\n",
        "A pattern with RegEx is defined to find the elements in the sentence which meet the predefined criteria. The chunk pattern consists of one rule, that a noun phrase (NP) should be formed whenever the chunker finds an optional determiner (DT) followed by any number of adjectives (JJ) and then a noun (NN)."
      ],
      "metadata": {
        "id": "GoBJ0PDVO5ku"
      }
    },
    {
      "cell_type": "code",
      "source": [
        "pattern = \"NP: {<DT>?<JJ>*<NN>}\""
      ],
      "metadata": {
        "id": "2-J3pi5EORZ0"
      },
      "execution_count": 5,
      "outputs": []
    },
    {
      "cell_type": "code",
      "source": [
        "chunk_parser = nltk.RegexpParser(pattern)\n",
        "chunked_sentence = chunk_parser.parse(sentence_preprocessed)\n",
        "print(chunked_sentence)"
      ],
      "metadata": {
        "colab": {
          "base_uri": "https://localhost:8080/"
        },
        "id": "qAtd12W1O4BG",
        "outputId": "c4653c4e-59b5-407f-9d97-46ca7704b5e3"
      },
      "execution_count": 6,
      "outputs": [
        {
          "output_type": "stream",
          "name": "stdout",
          "text": [
            "(S\n",
            "  During/IN\n",
            "  (NP a/DT phone/NN)\n",
            "  (NP call/NN)\n",
            "  on/IN\n",
            "  Friday/NNP\n",
            "  ,/,\n",
            "  Emmanuel/NNP\n",
            "  Macron/NNP\n",
            "  and/CC\n",
            "  Vladimir/NNP\n",
            "  Putin/NNP\n",
            "  agreed/VBD\n",
            "  that/IN\n",
            "  (NP a/DT team/NN)\n",
            "  from/IN\n",
            "  the/DT\n",
            "  International/NNP\n",
            "  Atomic/NNP\n",
            "  Energy/NNP\n",
            "  Agency/NNP\n",
            "  (/(\n",
            "  IAEA/NNP\n",
            "  )/)\n",
            "  should/MD\n",
            "  be/VB\n",
            "  sent/VBN\n",
            "  to/TO\n",
            "  the/DT\n",
            "  Zaporizhzhia/NNP\n",
            "  (NP nuclear/JJ power/NN)\n",
            "  (NP plant/NN)\n",
            "  in/IN\n",
            "  Ukraine/NNP\n",
            "  ,/,\n",
            "  according/VBG\n",
            "  to/TO\n",
            "  (NP the/DT French/JJ president/NN)\n",
            "  's/POS\n",
            "  (NP office/NN)\n",
            "  and/CC\n",
            "  the/DT\n",
            "  Kremlin/NNP\n",
            "  ./.)\n"
          ]
        }
      ]
    },
    {
      "cell_type": "markdown",
      "source": [
        "`tree2conlltags` is an NLTK function that receives chunked string, and returns a list of 3-tuples containing (word, tag, IOB-tag). In addition to the tags-of-speech, it denotes the inside, outside, and beginning of a chunk. For example, *B-NP* marks the beginning of a noun phrase (e.g., call, office), *I-NP* describes that the word is inside of the current noun phrase (e.g., phone, team), *O* shows end of the sentence, and *B-VP* and *I-VP* - beginning and inside of a verb phrase."
      ],
      "metadata": {
        "id": "ykZ1AqiWRBhT"
      }
    },
    {
      "cell_type": "code",
      "source": [
        "iob_tagged = tree2conlltags(chunked_sentence)\n",
        "pprint(iob_tagged)"
      ],
      "metadata": {
        "colab": {
          "base_uri": "https://localhost:8080/"
        },
        "id": "lDiDhvI0Pcc_",
        "outputId": "57de6d0a-cb32-40f4-be78-946e17bf7c8b"
      },
      "execution_count": 7,
      "outputs": [
        {
          "output_type": "stream",
          "name": "stdout",
          "text": [
            "[('During', 'IN', 'O'),\n",
            " ('a', 'DT', 'B-NP'),\n",
            " ('phone', 'NN', 'I-NP'),\n",
            " ('call', 'NN', 'B-NP'),\n",
            " ('on', 'IN', 'O'),\n",
            " ('Friday', 'NNP', 'O'),\n",
            " (',', ',', 'O'),\n",
            " ('Emmanuel', 'NNP', 'O'),\n",
            " ('Macron', 'NNP', 'O'),\n",
            " ('and', 'CC', 'O'),\n",
            " ('Vladimir', 'NNP', 'O'),\n",
            " ('Putin', 'NNP', 'O'),\n",
            " ('agreed', 'VBD', 'O'),\n",
            " ('that', 'IN', 'O'),\n",
            " ('a', 'DT', 'B-NP'),\n",
            " ('team', 'NN', 'I-NP'),\n",
            " ('from', 'IN', 'O'),\n",
            " ('the', 'DT', 'O'),\n",
            " ('International', 'NNP', 'O'),\n",
            " ('Atomic', 'NNP', 'O'),\n",
            " ('Energy', 'NNP', 'O'),\n",
            " ('Agency', 'NNP', 'O'),\n",
            " ('(', '(', 'O'),\n",
            " ('IAEA', 'NNP', 'O'),\n",
            " (')', ')', 'O'),\n",
            " ('should', 'MD', 'O'),\n",
            " ('be', 'VB', 'O'),\n",
            " ('sent', 'VBN', 'O'),\n",
            " ('to', 'TO', 'O'),\n",
            " ('the', 'DT', 'O'),\n",
            " ('Zaporizhzhia', 'NNP', 'O'),\n",
            " ('nuclear', 'JJ', 'B-NP'),\n",
            " ('power', 'NN', 'I-NP'),\n",
            " ('plant', 'NN', 'B-NP'),\n",
            " ('in', 'IN', 'O'),\n",
            " ('Ukraine', 'NNP', 'O'),\n",
            " (',', ',', 'O'),\n",
            " ('according', 'VBG', 'O'),\n",
            " ('to', 'TO', 'O'),\n",
            " ('the', 'DT', 'B-NP'),\n",
            " ('French', 'JJ', 'I-NP'),\n",
            " ('president', 'NN', 'I-NP'),\n",
            " (\"'s\", 'POS', 'O'),\n",
            " ('office', 'NN', 'B-NP'),\n",
            " ('and', 'CC', 'O'),\n",
            " ('the', 'DT', 'O'),\n",
            " ('Kremlin', 'NNP', 'O'),\n",
            " ('.', '.', 'O')]\n"
          ]
        }
      ]
    },
    {
      "cell_type": "markdown",
      "source": [
        "# 2. Analyze a sentence and its elements with `SpaCy`\n",
        "\n",
        "`en_core_web_sm` is one of the `SpaCy` pretrained language models. It should be downloaded in order to use its functionalities. The same sentence is used to illustrated how this library works."
      ],
      "metadata": {
        "id": "XrRoCup9QdGB"
      }
    },
    {
      "cell_type": "code",
      "source": [
        "nlp = en_core_web_sm.load()"
      ],
      "metadata": {
        "id": "QtYpEIDPQCBU"
      },
      "execution_count": 8,
      "outputs": []
    },
    {
      "cell_type": "code",
      "source": [
        "doc = nlp(\"During a phone call on Friday, Emmanuel Macron and Vladimir Putin agreed that a team from the International Atomic Energy Agency (IAEA) should be sent to the Zaporizhzhia nuclear power plant in Ukraine, according to the French president's office and the Kremlin.\")"
      ],
      "metadata": {
        "id": "Rf1P6luqI_m4"
      },
      "execution_count": 9,
      "outputs": []
    },
    {
      "cell_type": "markdown",
      "source": [
        "The recognized entities in this sentence are *Friday* (as Date), the French and the russian presidents (as PERSON), the *International Atomic Energy Agency* and its abbreviation, and kremlin (as ORG, organization), *Ukraine* (as GPE, Geo-Political entity), and *French* (as NORP, which stands for Nationalities or religious or political groups). "
      ],
      "metadata": {
        "id": "iJ1HLSPZU9WY"
      }
    },
    {
      "cell_type": "code",
      "source": [
        "pprint([(X.text, X.label_) for X in doc.ents])"
      ],
      "metadata": {
        "colab": {
          "base_uri": "https://localhost:8080/"
        },
        "id": "B4MbpWqIQ7mS",
        "outputId": "7b7ee0df-52f6-43da-9824-f7c468c5ceb0"
      },
      "execution_count": 10,
      "outputs": [
        {
          "output_type": "stream",
          "name": "stdout",
          "text": [
            "[('Friday', 'DATE'),\n",
            " ('Emmanuel Macron', 'PERSON'),\n",
            " ('Vladimir Putin', 'PERSON'),\n",
            " ('the International Atomic Energy Agency', 'ORG'),\n",
            " ('IAEA', 'ORG'),\n",
            " ('Zaporizhzhia', 'PERSON'),\n",
            " ('Ukraine', 'GPE'),\n",
            " ('French', 'NORP'),\n",
            " ('Kremlin', 'ORG')]\n"
          ]
        }
      ]
    },
    {
      "cell_type": "markdown",
      "source": [
        "Likewise, `SpaCy` can denote tokens with their associated part-of-speech and IOBs."
      ],
      "metadata": {
        "id": "5K3sRCvlRMOS"
      }
    },
    {
      "cell_type": "code",
      "source": [
        "pprint([(X, X.ent_iob_, X.ent_type_) for X in doc])"
      ],
      "metadata": {
        "colab": {
          "base_uri": "https://localhost:8080/"
        },
        "id": "V4CARigSRDTh",
        "outputId": "7c07741e-01e2-47b4-9e57-54b980d6f39a"
      },
      "execution_count": 11,
      "outputs": [
        {
          "output_type": "stream",
          "name": "stdout",
          "text": [
            "[(During, 'O', ''),\n",
            " (a, 'O', ''),\n",
            " (phone, 'O', ''),\n",
            " (call, 'O', ''),\n",
            " (on, 'O', ''),\n",
            " (Friday, 'B', 'DATE'),\n",
            " (,, 'O', ''),\n",
            " (Emmanuel, 'B', 'PERSON'),\n",
            " (Macron, 'I', 'PERSON'),\n",
            " (and, 'O', ''),\n",
            " (Vladimir, 'B', 'PERSON'),\n",
            " (Putin, 'I', 'PERSON'),\n",
            " (agreed, 'O', ''),\n",
            " (that, 'O', ''),\n",
            " (a, 'O', ''),\n",
            " (team, 'O', ''),\n",
            " (from, 'O', ''),\n",
            " (the, 'B', 'ORG'),\n",
            " (International, 'I', 'ORG'),\n",
            " (Atomic, 'I', 'ORG'),\n",
            " (Energy, 'I', 'ORG'),\n",
            " (Agency, 'I', 'ORG'),\n",
            " ((, 'O', ''),\n",
            " (IAEA, 'B', 'ORG'),\n",
            " (), 'O', ''),\n",
            " (should, 'O', ''),\n",
            " (be, 'O', ''),\n",
            " (sent, 'O', ''),\n",
            " (to, 'O', ''),\n",
            " (the, 'O', ''),\n",
            " (Zaporizhzhia, 'B', 'PERSON'),\n",
            " (nuclear, 'O', ''),\n",
            " (power, 'O', ''),\n",
            " (plant, 'O', ''),\n",
            " (in, 'O', ''),\n",
            " (Ukraine, 'B', 'GPE'),\n",
            " (,, 'O', ''),\n",
            " (according, 'O', ''),\n",
            " (to, 'O', ''),\n",
            " (the, 'O', ''),\n",
            " (French, 'B', 'NORP'),\n",
            " (president, 'O', ''),\n",
            " ('s, 'O', ''),\n",
            " (office, 'O', ''),\n",
            " (and, 'O', ''),\n",
            " (the, 'O', ''),\n",
            " (Kremlin, 'B', 'ORG'),\n",
            " (., 'O', '')]\n"
          ]
        }
      ]
    },
    {
      "cell_type": "markdown",
      "source": [
        "## 2.1. Extract Named Entity from an article\n",
        "\n",
        "Another example for a Named Entity Recognition task is to find entities in a whole article (or a document). To demonstrate how it works, the entire text of an [article](https://www.theguardian.com/world/2022/aug/19/canada-zoo-escaped-wolf-pups) from The Guardian is taken out from the site and stored in a variable. The function below scrapes the text and prepares it for further processing."
      ],
      "metadata": {
        "id": "IgUm0nYERtZD"
      }
    },
    {
      "cell_type": "code",
      "source": [
        "def url_to_string(url):\n",
        "  \"\"\"\n",
        "  Extracts text from a web site and prepares it for preprocessing\n",
        "  Args: a URL address\n",
        "  \n",
        "  \"\"\"\n",
        "  res = requests.get(url)\n",
        "  html = res.text\n",
        "  soup = BeautifulSoup(html, 'html5lib')\n",
        "  for script in soup([\"script\", \"style\", 'aside']):\n",
        "      script.extract()\n",
        "  return \" \".join(re.split(r'[\\n\\t]+', soup.get_text()))"
      ],
      "metadata": {
        "id": "vKvZvwiTR7v3"
      },
      "execution_count": 12,
      "outputs": []
    },
    {
      "cell_type": "code",
      "source": [
        "article = url_to_string(\"https://www.theguardian.com/world/2022/aug/19/canada-zoo-escaped-wolf-pups\")\n",
        "article"
      ],
      "metadata": {
        "colab": {
          "base_uri": "https://localhost:8080/",
          "height": 70
        },
        "id": "IVam5humYd1b",
        "outputId": "e71a23b0-fc43-4e02-f156-95aa274145b1"
      },
      "execution_count": 13,
      "outputs": [
        {
          "output_type": "execute_result",
          "data": {
            "text/plain": [
              "'                      Canada zoo finds escaped wolf pups in moment of joy tinged with tragedy | Canada | The Guardian                                                                                                                                                                                                                                                                                                                                                                                                                                                                                                                 Skip to main contentSkip to navigationAdvertisementUS editionUS editionUK editionAustralian editionInternational editionThe Guardian - Back to homeThe Guardian: news website of the yearSearch jobs Sign inSearchNewsOpinionSportCultureLifestyleShowMoreShow MoreNewsUS newsWorld newsEnvironmentSoccerUS politicsBusinessTechScienceNewslettersFight to voteOpinionThe Guardian viewColumnistsLettersOpinion videosCartoonsSportSoccerNFLTennisMLBMLSNBANHLF1CultureFilmBooksMusicArt & designTV & radioStageClassicalGamesLifestyleFashionFoodRecipesLove & sexHome & gardenHealth & fitnessFamilyTravelMoneyMake a contributionSubscribeSearch jobsDigital ArchiveGuardian Puzzles appGuardian content licensing siteThe Guardian appVideoPodcastsPicturesInside the GuardianGuardian WeeklyCrosswordsFacebookTwitterSearch jobsDigital ArchiveGuardian Puzzles appGuardian content licensing siteCanada zoo finds escaped wolf pups in moment of joy tinged with tragedyFour days after a ‘suspicious’ break-in, one pup is found safe and another appears to have been hit by a car Wolf pups in Minnesota. Two pups from the Greater Vancouver Zoo were found after four days on the loose. Photograph: All Canada Photos/AlamyWolf pups in Minnesota. Two pups from the Greater Vancouver Zoo were found after four days on the loose. Photograph: All Canada Photos/AlamyEmotions are bittersweet at a Canadian zoo after a runaway wolf pup was safely located after four days on the loose, but another was found dead along a road.Conservation officers and zoo staff in Canada have spent the last four days searching for a runaway wolf after mysterious break-in freed a pack of the predators from the popular zoo.In a statement on Friday morning, officials at the Greater Vancouver Zoo said Tempest, a one-year-old grey wolf, had been found and was “back with her family”. She had been located near the zoo, the statement said. But the news came a day after the zoo announced that another escaped wolf, Chia, had died, probably after being hit by a car.“We are so grateful for this positive outcome for Tempest but are still processing the loss of Chia,” the zoo’s statement said, adding it hoped to finally reopen on Saturday.The zoo announced on Tuesday morning it would not open to crowds that day. It later acknowledged that a pack of grey wolves had escaped after “suspicious” damage to the fence of their enclosure. The zoo said the incident was probably the result of “malicious intent”.Canada conservation officers seek runaway wolf days after zoo break-inRead moreOpened in 1970, the tourist attraction has nine adult grey wolves and six pups. Staff did not confirm how many had initially escaped after the fence was broken, nor did it say how many remained unaccounted for.The Royal Canadian Mounted Police are investigating the break-in, but a lack of surveillance footage has made it difficult to identify any suspects.The Greater Vancouver Zoo is seen in Langley, British Columbia. Photograph: Canadian Press/Rex/Shutterstock“I can just tell you that there was damage done to the enclosure to allow the wolves to exit. At this point, there’s no surveillance, so we don’t have any information to indicate how they got in or suspect information,” said Cpl Holly Largy of Langley RCMP.Located outside Vancouver, the zoo spans 120 acres in the Fraser Valley and is close to a large forested area that contains a naval radio communications facility.Animal rights activists have in recent years focused on the zoo following two attacks: one on a girl who was bitten by a black bear, and another on a staff member attacked by a jaguar.In 2019, the Vancouver Humane Society released a report criticizing the zoo. In 2020, the owners of the zoo spent millions on a “major overhaul” of the facility.The apparent act of vandalism also comes as the plight of wolves, which once thrived in the region, faces activists’ scrutiny. This year, the province extended its aerial wolf cull for another five years. The controversial program kills as many as 300 wolves a year in an effort to save woodland caribou.TopicsCanadaAnimalsWildlifeAmericasZoosnewsReuse this contentNewsOpinionSportCultureLifestyleOriginal reporting and incisive analysis, direct from the Guardian every morningSign up for our emailAbout usContact usComplaints & correctionsSecureDropWork for usPrivacy policyCookie policyTerms & conditionsHelpAll topicsAll writersDigital newspaper archiveFacebookYouTubeInstagramLinkedInTwitterNewslettersAdvertise with usGuardian LabsSearch jobsBack to top© 2022 Guardian News & Media Limited or its affiliated companies. All rights reserved. (modern)                                       '"
            ],
            "application/vnd.google.colaboratory.intrinsic+json": {
              "type": "string"
            }
          },
          "metadata": {},
          "execution_count": 13
        }
      ]
    },
    {
      "cell_type": "markdown",
      "source": [
        "Unfortunately, the `Beautifulsoup` scrapes everything on the site. Thus, not only the meaningful text is taken out of this article but links to other articles and pages, too. To simplify cleaning, I extract only the relevant sentences by hand. "
      ],
      "metadata": {
        "id": "D9jMPdtXeEq-"
      }
    },
    {
      "cell_type": "code",
      "source": [
        "article = \"Canada zoo finds escaped wolf pups in moment of joy tinged with tragedy. Canada zoo finds escaped wolf pups in moment of joy tinged with tragedyFour days after a ‘suspicious’ break-in, one pup is found safe and another appears to have been hit by a car Wolf pups in Minnesota. Two pups from the Greater Vancouver Zoo were found after four days on the loose. Emotions are bittersweet at a Canadian zoo after a runaway wolf pup was safely located after four days on the loose, but another was found dead along a road. Conservation officers and zoo staff in Canada have spent the last four days searching for a runaway wolf after mysterious break-in freed a pack of the predators from the popular zoo. In a statement on Friday morning, officials at the Greater Vancouver Zoo said Tempest, a one-year-old grey wolf, had been found and was “back with her family”. She had been located near the zoo, the statement said. But the news came a day after the zoo announced that another escaped wolf, Chia, had died, probably after being hit by a car. “We are so grateful for this positive outcome for Tempest but are still processing the loss of Chia,” the zoo’s statement said, adding it hoped to finally reopen on Saturday. The zoo announced on Tuesday morning it would not open to crowds that day. It later acknowledged that a pack of grey wolves had escaped after “suspicious” damage to the fence of their enclosure. The zoo said the incident was probably the result of “malicious intent”.Canada conservation officers seek runaway wolf days after zoo break-inRead moreOpened in 1970, the tourist attraction has nine adult grey wolves and six pups. Staff did not confirm how many had initially escaped after the fence was broken, nor did it say how many remained unaccounted for. The Royal Canadian Mounted Police are investigating the break-in, but a lack of surveillance footage has made it difficult to identify any suspects.The Greater Vancouver Zoo is seen in Langley, British Columbia. I can just tell you that there was damage done to the enclosure to allow the wolves to exit. At this point, there’s no surveillance, so we don’t have any information to indicate how they got in or suspect information,” said Cpl Holly Largy of Langley RCMP. Located outside Vancouver, the zoo spans 120 acres in the Fraser Valley and is close to a large forested area that contains a naval radio communications facility. Animal rights activists have in recent years focused on the zoo following two attacks: one on a girl who was bitten by a black bear, and another on a staff member attacked by a jaguar. In 2019, the Vancouver Humane Society released a report criticizing the zoo. In 2020, the owners of the zoo spent millions on a “major overhaul” of the facility. The apparent act of vandalism also comes as the plight of wolves, which once thrived in the region, faces activists’ scrutiny. This year, the province extended its aerial wolf cull for another five years. The controversial program kills as many as 300 wolves a year in an effort to save woodland caribou.\""
      ],
      "metadata": {
        "id": "jhA92DB5cGkj"
      },
      "execution_count": 14,
      "outputs": []
    },
    {
      "cell_type": "markdown",
      "source": [
        "The `SpaCy` language model found 50 entities in it."
      ],
      "metadata": {
        "id": "5EJa3OJBiQuk"
      }
    },
    {
      "cell_type": "code",
      "source": [
        "article = nlp(article)\n",
        "len(article.ents)"
      ],
      "metadata": {
        "colab": {
          "base_uri": "https://localhost:8080/"
        },
        "id": "6rNHNSAYSBGQ",
        "outputId": "a08bb50f-600f-4823-ab95-597675b2d2e3"
      },
      "execution_count": 15,
      "outputs": [
        {
          "output_type": "execute_result",
          "data": {
            "text/plain": [
              "50"
            ]
          },
          "metadata": {},
          "execution_count": 15
        }
      ]
    },
    {
      "cell_type": "markdown",
      "source": [
        "Ten out of all tokens are identified as GPE (Geo-Political Entities, e.g. countries, cities, states); six are PERSONs, 8 entities are categorized as CARDINAL, i.e., numerals that do not fall under another type. Six tokens are ORG (i.e., companies, agencies, institutions, etc.), 15 are DATEs (i.e. absolute date or a period), 1 is NORP (Nationalities or religious or political groups), 2 are recognized as TIME (i.e., time smaller than a day), 1 is a QUANTITY (some kind of measurement, e.g., weight or a distance), and 1 is denoted with FAC, which marks buildings, airports, highways, bridges, etc."
      ],
      "metadata": {
        "id": "PlUSX7JAndOG"
      }
    },
    {
      "cell_type": "code",
      "source": [
        "labels = [x.label_ for x in article.ents]\n",
        "Counter(labels)"
      ],
      "metadata": {
        "colab": {
          "base_uri": "https://localhost:8080/"
        },
        "id": "uBAORy1eSEBd",
        "outputId": "114737b9-f3e5-44a3-a4c7-8bdfc3af9f14"
      },
      "execution_count": 16,
      "outputs": [
        {
          "output_type": "execute_result",
          "data": {
            "text/plain": [
              "Counter({'GPE': 10,\n",
              "         'PERSON': 6,\n",
              "         'CARDINAL': 8,\n",
              "         'ORG': 6,\n",
              "         'DATE': 15,\n",
              "         'NORP': 1,\n",
              "         'TIME': 2,\n",
              "         'QUANTITY': 1,\n",
              "         'FAC': 1})"
            ]
          },
          "metadata": {},
          "execution_count": 16
        }
      ]
    },
    {
      "cell_type": "markdown",
      "source": [
        "The most common tokens in this article are \"Canada\", \"wolf pups\", and \"one\"."
      ],
      "metadata": {
        "id": "sRI0OMXSpWNe"
      }
    },
    {
      "cell_type": "code",
      "source": [
        "items = [x.text for x in article.ents]\n",
        "Counter(items).most_common(3)"
      ],
      "metadata": {
        "colab": {
          "base_uri": "https://localhost:8080/"
        },
        "id": "w9hpIawzSltU",
        "outputId": "0f6dc184-e097-4cf2-99e5-1e23509042f0"
      },
      "execution_count": 17,
      "outputs": [
        {
          "output_type": "execute_result",
          "data": {
            "text/plain": [
              "[('Canada', 4), ('wolf pups', 2), ('one', 2)]"
            ]
          },
          "metadata": {},
          "execution_count": 17
        }
      ]
    },
    {
      "cell_type": "markdown",
      "source": [
        "Exploration goes deeper by selecting two sentences for further analysis."
      ],
      "metadata": {
        "id": "ZNkQmofsqUnO"
      }
    },
    {
      "cell_type": "code",
      "source": [
        "sentences = [x for x in article.sents]\n",
        "pprint(sentences[2:4])"
      ],
      "metadata": {
        "colab": {
          "base_uri": "https://localhost:8080/"
        },
        "id": "ssVTIkEgSxlA",
        "outputId": "fea6e198-5476-4b8e-8dca-3305de94f9db"
      },
      "execution_count": 18,
      "outputs": [
        {
          "output_type": "stream",
          "name": "stdout",
          "text": [
            "[Two pups from the Greater Vancouver Zoo were found after four days on the loose.,\n",
            " Emotions are bittersweet at a Canadian zoo after a runaway wolf pup was safely located after four days on the loose, but another was found dead along a road.]\n"
          ]
        }
      ]
    },
    {
      "cell_type": "markdown",
      "source": [
        "`displaCy` visualizes all strings and marks the recognized entities - both in color and with their annotation."
      ],
      "metadata": {
        "id": "yjtVS-tNqiGR"
      }
    },
    {
      "cell_type": "code",
      "source": [
        "displacy.render(nlp(str(sentences[2:4])), jupyter = True, style = \"ent\")"
      ],
      "metadata": {
        "colab": {
          "base_uri": "https://localhost:8080/",
          "height": 87
        },
        "id": "fBgyzrG1S6Lk",
        "outputId": "e05a2f3f-8d47-46d5-83f0-e5278364af35"
      },
      "execution_count": 19,
      "outputs": [
        {
          "output_type": "display_data",
          "data": {
            "text/plain": [
              "<IPython.core.display.HTML object>"
            ],
            "text/html": [
              "<span class=\"tex2jax_ignore\"><div class=\"entities\" style=\"line-height: 2.5; direction: ltr\">[\n",
              "<mark class=\"entity\" style=\"background: #e4e7d2; padding: 0.45em 0.6em; margin: 0 0.25em; line-height: 1; border-radius: 0.35em;\">\n",
              "    Two\n",
              "    <span style=\"font-size: 0.8em; font-weight: bold; line-height: 1; border-radius: 0.35em; vertical-align: middle; margin-left: 0.5rem\">CARDINAL</span>\n",
              "</mark>\n",
              " pups from \n",
              "<mark class=\"entity\" style=\"background: #7aecec; padding: 0.45em 0.6em; margin: 0 0.25em; line-height: 1; border-radius: 0.35em;\">\n",
              "    the Greater Vancouver Zoo\n",
              "    <span style=\"font-size: 0.8em; font-weight: bold; line-height: 1; border-radius: 0.35em; vertical-align: middle; margin-left: 0.5rem\">ORG</span>\n",
              "</mark>\n",
              " were found after \n",
              "<mark class=\"entity\" style=\"background: #bfe1d9; padding: 0.45em 0.6em; margin: 0 0.25em; line-height: 1; border-radius: 0.35em;\">\n",
              "    four days\n",
              "    <span style=\"font-size: 0.8em; font-weight: bold; line-height: 1; border-radius: 0.35em; vertical-align: middle; margin-left: 0.5rem\">DATE</span>\n",
              "</mark>\n",
              " on the loose., Emotions are bittersweet at a \n",
              "<mark class=\"entity\" style=\"background: #c887fb; padding: 0.45em 0.6em; margin: 0 0.25em; line-height: 1; border-radius: 0.35em;\">\n",
              "    Canadian\n",
              "    <span style=\"font-size: 0.8em; font-weight: bold; line-height: 1; border-radius: 0.35em; vertical-align: middle; margin-left: 0.5rem\">NORP</span>\n",
              "</mark>\n",
              " zoo after a runaway wolf pup was safely located after \n",
              "<mark class=\"entity\" style=\"background: #bfe1d9; padding: 0.45em 0.6em; margin: 0 0.25em; line-height: 1; border-radius: 0.35em;\">\n",
              "    four days\n",
              "    <span style=\"font-size: 0.8em; font-weight: bold; line-height: 1; border-radius: 0.35em; vertical-align: middle; margin-left: 0.5rem\">DATE</span>\n",
              "</mark>\n",
              " on the loose, but another was found dead along a road.]</div></span>"
            ]
          },
          "metadata": {}
        }
      ]
    },
    {
      "cell_type": "markdown",
      "source": [
        "Furthermore, `displaCy` dependency visualizer (dep) shows the part-of-speech tags and syntactic dependencies."
      ],
      "metadata": {
        "id": "01nezGh0rjID"
      }
    },
    {
      "cell_type": "code",
      "source": [
        "displacy.render(nlp(str(sentences[2])), style= \"dep\", jupyter = True, options = {\"distance\": 120})"
      ],
      "metadata": {
        "colab": {
          "base_uri": "https://localhost:8080/",
          "height": 478
        },
        "id": "Nhlc_mCVTFrF",
        "outputId": "75cc55f4-6bc7-4174-9099-13b99f717d7c"
      },
      "execution_count": 20,
      "outputs": [
        {
          "output_type": "display_data",
          "data": {
            "text/plain": [
              "<IPython.core.display.HTML object>"
            ],
            "text/html": [
              "<span class=\"tex2jax_ignore\"><svg xmlns=\"http://www.w3.org/2000/svg\" xmlns:xlink=\"http://www.w3.org/1999/xlink\" xml:lang=\"en\" id=\"0fb4128c5b53446abc6c4f47815d8116-0\" class=\"displacy\" width=\"1850\" height=\"437.0\" direction=\"ltr\" style=\"max-width: none; height: 437.0px; color: #000000; background: #ffffff; font-family: Arial; direction: ltr\">\n",
              "<text class=\"displacy-token\" fill=\"currentColor\" text-anchor=\"middle\" y=\"347.0\">\n",
              "    <tspan class=\"displacy-word\" fill=\"currentColor\" x=\"50\">Two</tspan>\n",
              "    <tspan class=\"displacy-tag\" dy=\"2em\" fill=\"currentColor\" x=\"50\">NUM</tspan>\n",
              "</text>\n",
              "\n",
              "<text class=\"displacy-token\" fill=\"currentColor\" text-anchor=\"middle\" y=\"347.0\">\n",
              "    <tspan class=\"displacy-word\" fill=\"currentColor\" x=\"170\">pups</tspan>\n",
              "    <tspan class=\"displacy-tag\" dy=\"2em\" fill=\"currentColor\" x=\"170\">NOUN</tspan>\n",
              "</text>\n",
              "\n",
              "<text class=\"displacy-token\" fill=\"currentColor\" text-anchor=\"middle\" y=\"347.0\">\n",
              "    <tspan class=\"displacy-word\" fill=\"currentColor\" x=\"290\">from</tspan>\n",
              "    <tspan class=\"displacy-tag\" dy=\"2em\" fill=\"currentColor\" x=\"290\">ADP</tspan>\n",
              "</text>\n",
              "\n",
              "<text class=\"displacy-token\" fill=\"currentColor\" text-anchor=\"middle\" y=\"347.0\">\n",
              "    <tspan class=\"displacy-word\" fill=\"currentColor\" x=\"410\">the</tspan>\n",
              "    <tspan class=\"displacy-tag\" dy=\"2em\" fill=\"currentColor\" x=\"410\">DET</tspan>\n",
              "</text>\n",
              "\n",
              "<text class=\"displacy-token\" fill=\"currentColor\" text-anchor=\"middle\" y=\"347.0\">\n",
              "    <tspan class=\"displacy-word\" fill=\"currentColor\" x=\"530\">Greater</tspan>\n",
              "    <tspan class=\"displacy-tag\" dy=\"2em\" fill=\"currentColor\" x=\"530\">PROPN</tspan>\n",
              "</text>\n",
              "\n",
              "<text class=\"displacy-token\" fill=\"currentColor\" text-anchor=\"middle\" y=\"347.0\">\n",
              "    <tspan class=\"displacy-word\" fill=\"currentColor\" x=\"650\">Vancouver</tspan>\n",
              "    <tspan class=\"displacy-tag\" dy=\"2em\" fill=\"currentColor\" x=\"650\">PROPN</tspan>\n",
              "</text>\n",
              "\n",
              "<text class=\"displacy-token\" fill=\"currentColor\" text-anchor=\"middle\" y=\"347.0\">\n",
              "    <tspan class=\"displacy-word\" fill=\"currentColor\" x=\"770\">Zoo</tspan>\n",
              "    <tspan class=\"displacy-tag\" dy=\"2em\" fill=\"currentColor\" x=\"770\">PROPN</tspan>\n",
              "</text>\n",
              "\n",
              "<text class=\"displacy-token\" fill=\"currentColor\" text-anchor=\"middle\" y=\"347.0\">\n",
              "    <tspan class=\"displacy-word\" fill=\"currentColor\" x=\"890\">were</tspan>\n",
              "    <tspan class=\"displacy-tag\" dy=\"2em\" fill=\"currentColor\" x=\"890\">AUX</tspan>\n",
              "</text>\n",
              "\n",
              "<text class=\"displacy-token\" fill=\"currentColor\" text-anchor=\"middle\" y=\"347.0\">\n",
              "    <tspan class=\"displacy-word\" fill=\"currentColor\" x=\"1010\">found</tspan>\n",
              "    <tspan class=\"displacy-tag\" dy=\"2em\" fill=\"currentColor\" x=\"1010\">VERB</tspan>\n",
              "</text>\n",
              "\n",
              "<text class=\"displacy-token\" fill=\"currentColor\" text-anchor=\"middle\" y=\"347.0\">\n",
              "    <tspan class=\"displacy-word\" fill=\"currentColor\" x=\"1130\">after</tspan>\n",
              "    <tspan class=\"displacy-tag\" dy=\"2em\" fill=\"currentColor\" x=\"1130\">ADP</tspan>\n",
              "</text>\n",
              "\n",
              "<text class=\"displacy-token\" fill=\"currentColor\" text-anchor=\"middle\" y=\"347.0\">\n",
              "    <tspan class=\"displacy-word\" fill=\"currentColor\" x=\"1250\">four</tspan>\n",
              "    <tspan class=\"displacy-tag\" dy=\"2em\" fill=\"currentColor\" x=\"1250\">NUM</tspan>\n",
              "</text>\n",
              "\n",
              "<text class=\"displacy-token\" fill=\"currentColor\" text-anchor=\"middle\" y=\"347.0\">\n",
              "    <tspan class=\"displacy-word\" fill=\"currentColor\" x=\"1370\">days</tspan>\n",
              "    <tspan class=\"displacy-tag\" dy=\"2em\" fill=\"currentColor\" x=\"1370\">NOUN</tspan>\n",
              "</text>\n",
              "\n",
              "<text class=\"displacy-token\" fill=\"currentColor\" text-anchor=\"middle\" y=\"347.0\">\n",
              "    <tspan class=\"displacy-word\" fill=\"currentColor\" x=\"1490\">on</tspan>\n",
              "    <tspan class=\"displacy-tag\" dy=\"2em\" fill=\"currentColor\" x=\"1490\">ADP</tspan>\n",
              "</text>\n",
              "\n",
              "<text class=\"displacy-token\" fill=\"currentColor\" text-anchor=\"middle\" y=\"347.0\">\n",
              "    <tspan class=\"displacy-word\" fill=\"currentColor\" x=\"1610\">the</tspan>\n",
              "    <tspan class=\"displacy-tag\" dy=\"2em\" fill=\"currentColor\" x=\"1610\">DET</tspan>\n",
              "</text>\n",
              "\n",
              "<text class=\"displacy-token\" fill=\"currentColor\" text-anchor=\"middle\" y=\"347.0\">\n",
              "    <tspan class=\"displacy-word\" fill=\"currentColor\" x=\"1730\">loose.</tspan>\n",
              "    <tspan class=\"displacy-tag\" dy=\"2em\" fill=\"currentColor\" x=\"1730\">NOUN</tspan>\n",
              "</text>\n",
              "\n",
              "<g class=\"displacy-arrow\">\n",
              "    <path class=\"displacy-arc\" id=\"arrow-0fb4128c5b53446abc6c4f47815d8116-0-0\" stroke-width=\"2px\" d=\"M70,302.0 C70,242.0 150.0,242.0 150.0,302.0\" fill=\"none\" stroke=\"currentColor\"/>\n",
              "    <text dy=\"1.25em\" style=\"font-size: 0.8em; letter-spacing: 1px\">\n",
              "        <textPath xlink:href=\"#arrow-0fb4128c5b53446abc6c4f47815d8116-0-0\" class=\"displacy-label\" startOffset=\"50%\" side=\"left\" fill=\"currentColor\" text-anchor=\"middle\">nummod</textPath>\n",
              "    </text>\n",
              "    <path class=\"displacy-arrowhead\" d=\"M70,304.0 L62,292.0 78,292.0\" fill=\"currentColor\"/>\n",
              "</g>\n",
              "\n",
              "<g class=\"displacy-arrow\">\n",
              "    <path class=\"displacy-arc\" id=\"arrow-0fb4128c5b53446abc6c4f47815d8116-0-1\" stroke-width=\"2px\" d=\"M190,302.0 C190,2.0 1010.0,2.0 1010.0,302.0\" fill=\"none\" stroke=\"currentColor\"/>\n",
              "    <text dy=\"1.25em\" style=\"font-size: 0.8em; letter-spacing: 1px\">\n",
              "        <textPath xlink:href=\"#arrow-0fb4128c5b53446abc6c4f47815d8116-0-1\" class=\"displacy-label\" startOffset=\"50%\" side=\"left\" fill=\"currentColor\" text-anchor=\"middle\">nsubjpass</textPath>\n",
              "    </text>\n",
              "    <path class=\"displacy-arrowhead\" d=\"M190,304.0 L182,292.0 198,292.0\" fill=\"currentColor\"/>\n",
              "</g>\n",
              "\n",
              "<g class=\"displacy-arrow\">\n",
              "    <path class=\"displacy-arc\" id=\"arrow-0fb4128c5b53446abc6c4f47815d8116-0-2\" stroke-width=\"2px\" d=\"M190,302.0 C190,242.0 270.0,242.0 270.0,302.0\" fill=\"none\" stroke=\"currentColor\"/>\n",
              "    <text dy=\"1.25em\" style=\"font-size: 0.8em; letter-spacing: 1px\">\n",
              "        <textPath xlink:href=\"#arrow-0fb4128c5b53446abc6c4f47815d8116-0-2\" class=\"displacy-label\" startOffset=\"50%\" side=\"left\" fill=\"currentColor\" text-anchor=\"middle\">prep</textPath>\n",
              "    </text>\n",
              "    <path class=\"displacy-arrowhead\" d=\"M270.0,304.0 L278.0,292.0 262.0,292.0\" fill=\"currentColor\"/>\n",
              "</g>\n",
              "\n",
              "<g class=\"displacy-arrow\">\n",
              "    <path class=\"displacy-arc\" id=\"arrow-0fb4128c5b53446abc6c4f47815d8116-0-3\" stroke-width=\"2px\" d=\"M430,302.0 C430,122.0 760.0,122.0 760.0,302.0\" fill=\"none\" stroke=\"currentColor\"/>\n",
              "    <text dy=\"1.25em\" style=\"font-size: 0.8em; letter-spacing: 1px\">\n",
              "        <textPath xlink:href=\"#arrow-0fb4128c5b53446abc6c4f47815d8116-0-3\" class=\"displacy-label\" startOffset=\"50%\" side=\"left\" fill=\"currentColor\" text-anchor=\"middle\">det</textPath>\n",
              "    </text>\n",
              "    <path class=\"displacy-arrowhead\" d=\"M430,304.0 L422,292.0 438,292.0\" fill=\"currentColor\"/>\n",
              "</g>\n",
              "\n",
              "<g class=\"displacy-arrow\">\n",
              "    <path class=\"displacy-arc\" id=\"arrow-0fb4128c5b53446abc6c4f47815d8116-0-4\" stroke-width=\"2px\" d=\"M550,302.0 C550,182.0 755.0,182.0 755.0,302.0\" fill=\"none\" stroke=\"currentColor\"/>\n",
              "    <text dy=\"1.25em\" style=\"font-size: 0.8em; letter-spacing: 1px\">\n",
              "        <textPath xlink:href=\"#arrow-0fb4128c5b53446abc6c4f47815d8116-0-4\" class=\"displacy-label\" startOffset=\"50%\" side=\"left\" fill=\"currentColor\" text-anchor=\"middle\">compound</textPath>\n",
              "    </text>\n",
              "    <path class=\"displacy-arrowhead\" d=\"M550,304.0 L542,292.0 558,292.0\" fill=\"currentColor\"/>\n",
              "</g>\n",
              "\n",
              "<g class=\"displacy-arrow\">\n",
              "    <path class=\"displacy-arc\" id=\"arrow-0fb4128c5b53446abc6c4f47815d8116-0-5\" stroke-width=\"2px\" d=\"M670,302.0 C670,242.0 750.0,242.0 750.0,302.0\" fill=\"none\" stroke=\"currentColor\"/>\n",
              "    <text dy=\"1.25em\" style=\"font-size: 0.8em; letter-spacing: 1px\">\n",
              "        <textPath xlink:href=\"#arrow-0fb4128c5b53446abc6c4f47815d8116-0-5\" class=\"displacy-label\" startOffset=\"50%\" side=\"left\" fill=\"currentColor\" text-anchor=\"middle\">compound</textPath>\n",
              "    </text>\n",
              "    <path class=\"displacy-arrowhead\" d=\"M670,304.0 L662,292.0 678,292.0\" fill=\"currentColor\"/>\n",
              "</g>\n",
              "\n",
              "<g class=\"displacy-arrow\">\n",
              "    <path class=\"displacy-arc\" id=\"arrow-0fb4128c5b53446abc6c4f47815d8116-0-6\" stroke-width=\"2px\" d=\"M310,302.0 C310,62.0 765.0,62.0 765.0,302.0\" fill=\"none\" stroke=\"currentColor\"/>\n",
              "    <text dy=\"1.25em\" style=\"font-size: 0.8em; letter-spacing: 1px\">\n",
              "        <textPath xlink:href=\"#arrow-0fb4128c5b53446abc6c4f47815d8116-0-6\" class=\"displacy-label\" startOffset=\"50%\" side=\"left\" fill=\"currentColor\" text-anchor=\"middle\">pobj</textPath>\n",
              "    </text>\n",
              "    <path class=\"displacy-arrowhead\" d=\"M765.0,304.0 L773.0,292.0 757.0,292.0\" fill=\"currentColor\"/>\n",
              "</g>\n",
              "\n",
              "<g class=\"displacy-arrow\">\n",
              "    <path class=\"displacy-arc\" id=\"arrow-0fb4128c5b53446abc6c4f47815d8116-0-7\" stroke-width=\"2px\" d=\"M910,302.0 C910,242.0 990.0,242.0 990.0,302.0\" fill=\"none\" stroke=\"currentColor\"/>\n",
              "    <text dy=\"1.25em\" style=\"font-size: 0.8em; letter-spacing: 1px\">\n",
              "        <textPath xlink:href=\"#arrow-0fb4128c5b53446abc6c4f47815d8116-0-7\" class=\"displacy-label\" startOffset=\"50%\" side=\"left\" fill=\"currentColor\" text-anchor=\"middle\">auxpass</textPath>\n",
              "    </text>\n",
              "    <path class=\"displacy-arrowhead\" d=\"M910,304.0 L902,292.0 918,292.0\" fill=\"currentColor\"/>\n",
              "</g>\n",
              "\n",
              "<g class=\"displacy-arrow\">\n",
              "    <path class=\"displacy-arc\" id=\"arrow-0fb4128c5b53446abc6c4f47815d8116-0-8\" stroke-width=\"2px\" d=\"M1030,302.0 C1030,242.0 1110.0,242.0 1110.0,302.0\" fill=\"none\" stroke=\"currentColor\"/>\n",
              "    <text dy=\"1.25em\" style=\"font-size: 0.8em; letter-spacing: 1px\">\n",
              "        <textPath xlink:href=\"#arrow-0fb4128c5b53446abc6c4f47815d8116-0-8\" class=\"displacy-label\" startOffset=\"50%\" side=\"left\" fill=\"currentColor\" text-anchor=\"middle\">prep</textPath>\n",
              "    </text>\n",
              "    <path class=\"displacy-arrowhead\" d=\"M1110.0,304.0 L1118.0,292.0 1102.0,292.0\" fill=\"currentColor\"/>\n",
              "</g>\n",
              "\n",
              "<g class=\"displacy-arrow\">\n",
              "    <path class=\"displacy-arc\" id=\"arrow-0fb4128c5b53446abc6c4f47815d8116-0-9\" stroke-width=\"2px\" d=\"M1270,302.0 C1270,242.0 1350.0,242.0 1350.0,302.0\" fill=\"none\" stroke=\"currentColor\"/>\n",
              "    <text dy=\"1.25em\" style=\"font-size: 0.8em; letter-spacing: 1px\">\n",
              "        <textPath xlink:href=\"#arrow-0fb4128c5b53446abc6c4f47815d8116-0-9\" class=\"displacy-label\" startOffset=\"50%\" side=\"left\" fill=\"currentColor\" text-anchor=\"middle\">nummod</textPath>\n",
              "    </text>\n",
              "    <path class=\"displacy-arrowhead\" d=\"M1270,304.0 L1262,292.0 1278,292.0\" fill=\"currentColor\"/>\n",
              "</g>\n",
              "\n",
              "<g class=\"displacy-arrow\">\n",
              "    <path class=\"displacy-arc\" id=\"arrow-0fb4128c5b53446abc6c4f47815d8116-0-10\" stroke-width=\"2px\" d=\"M1150,302.0 C1150,182.0 1355.0,182.0 1355.0,302.0\" fill=\"none\" stroke=\"currentColor\"/>\n",
              "    <text dy=\"1.25em\" style=\"font-size: 0.8em; letter-spacing: 1px\">\n",
              "        <textPath xlink:href=\"#arrow-0fb4128c5b53446abc6c4f47815d8116-0-10\" class=\"displacy-label\" startOffset=\"50%\" side=\"left\" fill=\"currentColor\" text-anchor=\"middle\">pobj</textPath>\n",
              "    </text>\n",
              "    <path class=\"displacy-arrowhead\" d=\"M1355.0,304.0 L1363.0,292.0 1347.0,292.0\" fill=\"currentColor\"/>\n",
              "</g>\n",
              "\n",
              "<g class=\"displacy-arrow\">\n",
              "    <path class=\"displacy-arc\" id=\"arrow-0fb4128c5b53446abc6c4f47815d8116-0-11\" stroke-width=\"2px\" d=\"M1030,302.0 C1030,122.0 1480.0,122.0 1480.0,302.0\" fill=\"none\" stroke=\"currentColor\"/>\n",
              "    <text dy=\"1.25em\" style=\"font-size: 0.8em; letter-spacing: 1px\">\n",
              "        <textPath xlink:href=\"#arrow-0fb4128c5b53446abc6c4f47815d8116-0-11\" class=\"displacy-label\" startOffset=\"50%\" side=\"left\" fill=\"currentColor\" text-anchor=\"middle\">prep</textPath>\n",
              "    </text>\n",
              "    <path class=\"displacy-arrowhead\" d=\"M1480.0,304.0 L1488.0,292.0 1472.0,292.0\" fill=\"currentColor\"/>\n",
              "</g>\n",
              "\n",
              "<g class=\"displacy-arrow\">\n",
              "    <path class=\"displacy-arc\" id=\"arrow-0fb4128c5b53446abc6c4f47815d8116-0-12\" stroke-width=\"2px\" d=\"M1630,302.0 C1630,242.0 1710.0,242.0 1710.0,302.0\" fill=\"none\" stroke=\"currentColor\"/>\n",
              "    <text dy=\"1.25em\" style=\"font-size: 0.8em; letter-spacing: 1px\">\n",
              "        <textPath xlink:href=\"#arrow-0fb4128c5b53446abc6c4f47815d8116-0-12\" class=\"displacy-label\" startOffset=\"50%\" side=\"left\" fill=\"currentColor\" text-anchor=\"middle\">det</textPath>\n",
              "    </text>\n",
              "    <path class=\"displacy-arrowhead\" d=\"M1630,304.0 L1622,292.0 1638,292.0\" fill=\"currentColor\"/>\n",
              "</g>\n",
              "\n",
              "<g class=\"displacy-arrow\">\n",
              "    <path class=\"displacy-arc\" id=\"arrow-0fb4128c5b53446abc6c4f47815d8116-0-13\" stroke-width=\"2px\" d=\"M1510,302.0 C1510,182.0 1715.0,182.0 1715.0,302.0\" fill=\"none\" stroke=\"currentColor\"/>\n",
              "    <text dy=\"1.25em\" style=\"font-size: 0.8em; letter-spacing: 1px\">\n",
              "        <textPath xlink:href=\"#arrow-0fb4128c5b53446abc6c4f47815d8116-0-13\" class=\"displacy-label\" startOffset=\"50%\" side=\"left\" fill=\"currentColor\" text-anchor=\"middle\">pobj</textPath>\n",
              "    </text>\n",
              "    <path class=\"displacy-arrowhead\" d=\"M1715.0,304.0 L1723.0,292.0 1707.0,292.0\" fill=\"currentColor\"/>\n",
              "</g>\n",
              "</svg></span>"
            ]
          },
          "metadata": {}
        }
      ]
    },
    {
      "cell_type": "markdown",
      "source": [
        "The linguistic analysis continues with verbatim, extracting part-of-speech and lemmatizing the two sentences."
      ],
      "metadata": {
        "id": "9rYF76H9sXaN"
      }
    },
    {
      "cell_type": "code",
      "source": [
        "[(x.orth_, x.pos_, x.lemma_) for x in [y for y in nlp(str(sentences[2:4])) if not y.is_stop and y.pos_ != \"PUNCT\"]]"
      ],
      "metadata": {
        "colab": {
          "base_uri": "https://localhost:8080/"
        },
        "id": "8vYUd5I1Tnww",
        "outputId": "1cf7079b-350c-4d06-c32f-9a419ed0457c"
      },
      "execution_count": 21,
      "outputs": [
        {
          "output_type": "execute_result",
          "data": {
            "text/plain": [
              "[('[', 'X', '['),\n",
              " ('pups', 'NOUN', 'pup'),\n",
              " ('Greater', 'PROPN', 'Greater'),\n",
              " ('Vancouver', 'PROPN', 'Vancouver'),\n",
              " ('Zoo', 'PROPN', 'Zoo'),\n",
              " ('found', 'VERB', 'find'),\n",
              " ('days', 'NOUN', 'day'),\n",
              " ('loose', 'NOUN', 'loose'),\n",
              " ('Emotions', 'NOUN', 'emotion'),\n",
              " ('bittersweet', 'ADJ', 'bittersweet'),\n",
              " ('Canadian', 'ADJ', 'canadian'),\n",
              " ('zoo', 'NOUN', 'zoo'),\n",
              " ('runaway', 'ADJ', 'runaway'),\n",
              " ('wolf', 'NOUN', 'wolf'),\n",
              " ('pup', 'PROPN', 'pup'),\n",
              " ('safely', 'ADV', 'safely'),\n",
              " ('located', 'VERB', 'locate'),\n",
              " ('days', 'NOUN', 'day'),\n",
              " ('loose', 'ADJ', 'loose'),\n",
              " ('found', 'VERB', 'find'),\n",
              " ('dead', 'ADJ', 'dead'),\n",
              " ('road', 'NOUN', 'road')]"
            ]
          },
          "metadata": {},
          "execution_count": 21
        }
      ]
    },
    {
      "cell_type": "markdown",
      "source": [
        "The code line below prints the recognised entities and the type of entity they belong to."
      ],
      "metadata": {
        "id": "p-q3pMZPtMuz"
      }
    },
    {
      "cell_type": "code",
      "source": [
        "dict([(str(x), x.label_) for x in nlp(str(sentences[2:4])).ents])"
      ],
      "metadata": {
        "colab": {
          "base_uri": "https://localhost:8080/"
        },
        "id": "A679wue9T-xF",
        "outputId": "bd425d31-ea82-4ac3-8db8-53e219d1523e"
      },
      "execution_count": 22,
      "outputs": [
        {
          "output_type": "execute_result",
          "data": {
            "text/plain": [
              "{'Two': 'CARDINAL',\n",
              " 'the Greater Vancouver Zoo': 'ORG',\n",
              " 'four days': 'DATE',\n",
              " 'Canadian': 'NORP'}"
            ]
          },
          "metadata": {},
          "execution_count": 22
        }
      ]
    },
    {
      "cell_type": "markdown",
      "source": [
        "`SpaCy` found that \"Greater\" is inside an entity, as Vancouver, Zoo, and days (all are correct); many are considered. \"Two\", \"the\", and \"four\" begins an entity, and the remaining tokens are labelled as outside entities."
      ],
      "metadata": {
        "id": "qGox9CMRtotq"
      }
    },
    {
      "cell_type": "code",
      "source": [
        "pprint([(x, x.ent_iob_, x.ent_type_) for x in sentences[2]])"
      ],
      "metadata": {
        "colab": {
          "base_uri": "https://localhost:8080/"
        },
        "id": "qbFp90xNUMEE",
        "outputId": "2a06c7ba-0028-44a0-a53e-9896cedfebef"
      },
      "execution_count": 23,
      "outputs": [
        {
          "output_type": "stream",
          "name": "stdout",
          "text": [
            "[(Two, 'B', 'CARDINAL'),\n",
            " (pups, 'O', ''),\n",
            " (from, 'O', ''),\n",
            " (the, 'B', 'ORG'),\n",
            " (Greater, 'I', 'ORG'),\n",
            " (Vancouver, 'I', 'ORG'),\n",
            " (Zoo, 'I', 'ORG'),\n",
            " (were, 'O', ''),\n",
            " (found, 'O', ''),\n",
            " (after, 'O', ''),\n",
            " (four, 'B', 'DATE'),\n",
            " (days, 'I', 'DATE'),\n",
            " (on, 'O', ''),\n",
            " (the, 'O', ''),\n",
            " (loose, 'O', ''),\n",
            " (., 'O', '')]\n"
          ]
        }
      ]
    },
    {
      "cell_type": "markdown",
      "source": [
        "At the end, the entire article is displayed with recognised and marked entities. A brief check shows that there is an error: \"intent\" is not a GPE but outside an entity part-of-speech. "
      ],
      "metadata": {
        "id": "IIukC8L3uyut"
      }
    },
    {
      "cell_type": "code",
      "source": [
        "displacy.render(nlp(str(article)), jupyter=True, style = \"ent\")"
      ],
      "metadata": {
        "colab": {
          "base_uri": "https://localhost:8080/",
          "height": 542
        },
        "id": "gzLz00_uUVr9",
        "outputId": "c20d3291-ac44-4b08-d229-77749352d5ad"
      },
      "execution_count": 24,
      "outputs": [
        {
          "output_type": "display_data",
          "data": {
            "text/plain": [
              "<IPython.core.display.HTML object>"
            ],
            "text/html": [
              "<span class=\"tex2jax_ignore\"><div class=\"entities\" style=\"line-height: 2.5; direction: ltr\">\n",
              "<mark class=\"entity\" style=\"background: #feca74; padding: 0.45em 0.6em; margin: 0 0.25em; line-height: 1; border-radius: 0.35em;\">\n",
              "    Canada\n",
              "    <span style=\"font-size: 0.8em; font-weight: bold; line-height: 1; border-radius: 0.35em; vertical-align: middle; margin-left: 0.5rem\">GPE</span>\n",
              "</mark>\n",
              " zoo finds escaped \n",
              "<mark class=\"entity\" style=\"background: #aa9cfc; padding: 0.45em 0.6em; margin: 0 0.25em; line-height: 1; border-radius: 0.35em;\">\n",
              "    wolf pups\n",
              "    <span style=\"font-size: 0.8em; font-weight: bold; line-height: 1; border-radius: 0.35em; vertical-align: middle; margin-left: 0.5rem\">PERSON</span>\n",
              "</mark>\n",
              " in moment of joy tinged with tragedy. \n",
              "<mark class=\"entity\" style=\"background: #feca74; padding: 0.45em 0.6em; margin: 0 0.25em; line-height: 1; border-radius: 0.35em;\">\n",
              "    Canada\n",
              "    <span style=\"font-size: 0.8em; font-weight: bold; line-height: 1; border-radius: 0.35em; vertical-align: middle; margin-left: 0.5rem\">GPE</span>\n",
              "</mark>\n",
              " zoo finds escaped \n",
              "<mark class=\"entity\" style=\"background: #aa9cfc; padding: 0.45em 0.6em; margin: 0 0.25em; line-height: 1; border-radius: 0.35em;\">\n",
              "    wolf pups\n",
              "    <span style=\"font-size: 0.8em; font-weight: bold; line-height: 1; border-radius: 0.35em; vertical-align: middle; margin-left: 0.5rem\">PERSON</span>\n",
              "</mark>\n",
              " in moment of joy tinged with tragedyFour days after a ‘suspicious’ break-in, \n",
              "<mark class=\"entity\" style=\"background: #e4e7d2; padding: 0.45em 0.6em; margin: 0 0.25em; line-height: 1; border-radius: 0.35em;\">\n",
              "    one\n",
              "    <span style=\"font-size: 0.8em; font-weight: bold; line-height: 1; border-radius: 0.35em; vertical-align: middle; margin-left: 0.5rem\">CARDINAL</span>\n",
              "</mark>\n",
              " pup is found safe and another appears to have been hit by a car Wolf pups in \n",
              "<mark class=\"entity\" style=\"background: #feca74; padding: 0.45em 0.6em; margin: 0 0.25em; line-height: 1; border-radius: 0.35em;\">\n",
              "    Minnesota\n",
              "    <span style=\"font-size: 0.8em; font-weight: bold; line-height: 1; border-radius: 0.35em; vertical-align: middle; margin-left: 0.5rem\">GPE</span>\n",
              "</mark>\n",
              ". \n",
              "<mark class=\"entity\" style=\"background: #e4e7d2; padding: 0.45em 0.6em; margin: 0 0.25em; line-height: 1; border-radius: 0.35em;\">\n",
              "    Two\n",
              "    <span style=\"font-size: 0.8em; font-weight: bold; line-height: 1; border-radius: 0.35em; vertical-align: middle; margin-left: 0.5rem\">CARDINAL</span>\n",
              "</mark>\n",
              " pups from \n",
              "<mark class=\"entity\" style=\"background: #7aecec; padding: 0.45em 0.6em; margin: 0 0.25em; line-height: 1; border-radius: 0.35em;\">\n",
              "    the Greater Vancouver Zoo\n",
              "    <span style=\"font-size: 0.8em; font-weight: bold; line-height: 1; border-radius: 0.35em; vertical-align: middle; margin-left: 0.5rem\">ORG</span>\n",
              "</mark>\n",
              " were found after \n",
              "<mark class=\"entity\" style=\"background: #bfe1d9; padding: 0.45em 0.6em; margin: 0 0.25em; line-height: 1; border-radius: 0.35em;\">\n",
              "    four days\n",
              "    <span style=\"font-size: 0.8em; font-weight: bold; line-height: 1; border-radius: 0.35em; vertical-align: middle; margin-left: 0.5rem\">DATE</span>\n",
              "</mark>\n",
              " on the loose. Emotions are bittersweet at a \n",
              "<mark class=\"entity\" style=\"background: #c887fb; padding: 0.45em 0.6em; margin: 0 0.25em; line-height: 1; border-radius: 0.35em;\">\n",
              "    Canadian\n",
              "    <span style=\"font-size: 0.8em; font-weight: bold; line-height: 1; border-radius: 0.35em; vertical-align: middle; margin-left: 0.5rem\">NORP</span>\n",
              "</mark>\n",
              " zoo after a runaway wolf pup was safely located after \n",
              "<mark class=\"entity\" style=\"background: #bfe1d9; padding: 0.45em 0.6em; margin: 0 0.25em; line-height: 1; border-radius: 0.35em;\">\n",
              "    four days\n",
              "    <span style=\"font-size: 0.8em; font-weight: bold; line-height: 1; border-radius: 0.35em; vertical-align: middle; margin-left: 0.5rem\">DATE</span>\n",
              "</mark>\n",
              " on the loose, but another was found dead along a road. Conservation officers and zoo staff in \n",
              "<mark class=\"entity\" style=\"background: #feca74; padding: 0.45em 0.6em; margin: 0 0.25em; line-height: 1; border-radius: 0.35em;\">\n",
              "    Canada\n",
              "    <span style=\"font-size: 0.8em; font-weight: bold; line-height: 1; border-radius: 0.35em; vertical-align: middle; margin-left: 0.5rem\">GPE</span>\n",
              "</mark>\n",
              " have spent \n",
              "<mark class=\"entity\" style=\"background: #bfe1d9; padding: 0.45em 0.6em; margin: 0 0.25em; line-height: 1; border-radius: 0.35em;\">\n",
              "    the last four days\n",
              "    <span style=\"font-size: 0.8em; font-weight: bold; line-height: 1; border-radius: 0.35em; vertical-align: middle; margin-left: 0.5rem\">DATE</span>\n",
              "</mark>\n",
              " searching for a runaway wolf after mysterious break-in freed a pack of the predators from the popular zoo. In a statement on \n",
              "<mark class=\"entity\" style=\"background: #bfe1d9; padding: 0.45em 0.6em; margin: 0 0.25em; line-height: 1; border-radius: 0.35em;\">\n",
              "    Friday\n",
              "    <span style=\"font-size: 0.8em; font-weight: bold; line-height: 1; border-radius: 0.35em; vertical-align: middle; margin-left: 0.5rem\">DATE</span>\n",
              "</mark>\n",
              " \n",
              "<mark class=\"entity\" style=\"background: #bfe1d9; padding: 0.45em 0.6em; margin: 0 0.25em; line-height: 1; border-radius: 0.35em;\">\n",
              "    morning\n",
              "    <span style=\"font-size: 0.8em; font-weight: bold; line-height: 1; border-radius: 0.35em; vertical-align: middle; margin-left: 0.5rem\">TIME</span>\n",
              "</mark>\n",
              ", officials at \n",
              "<mark class=\"entity\" style=\"background: #7aecec; padding: 0.45em 0.6em; margin: 0 0.25em; line-height: 1; border-radius: 0.35em;\">\n",
              "    the Greater Vancouver Zoo\n",
              "    <span style=\"font-size: 0.8em; font-weight: bold; line-height: 1; border-radius: 0.35em; vertical-align: middle; margin-left: 0.5rem\">ORG</span>\n",
              "</mark>\n",
              " said \n",
              "<mark class=\"entity\" style=\"background: #7aecec; padding: 0.45em 0.6em; margin: 0 0.25em; line-height: 1; border-radius: 0.35em;\">\n",
              "    Tempest\n",
              "    <span style=\"font-size: 0.8em; font-weight: bold; line-height: 1; border-radius: 0.35em; vertical-align: middle; margin-left: 0.5rem\">ORG</span>\n",
              "</mark>\n",
              ", a \n",
              "<mark class=\"entity\" style=\"background: #bfe1d9; padding: 0.45em 0.6em; margin: 0 0.25em; line-height: 1; border-radius: 0.35em;\">\n",
              "    one-year-old\n",
              "    <span style=\"font-size: 0.8em; font-weight: bold; line-height: 1; border-radius: 0.35em; vertical-align: middle; margin-left: 0.5rem\">DATE</span>\n",
              "</mark>\n",
              " grey \n",
              "<mark class=\"entity\" style=\"background: #aa9cfc; padding: 0.45em 0.6em; margin: 0 0.25em; line-height: 1; border-radius: 0.35em;\">\n",
              "    wolf\n",
              "    <span style=\"font-size: 0.8em; font-weight: bold; line-height: 1; border-radius: 0.35em; vertical-align: middle; margin-left: 0.5rem\">PERSON</span>\n",
              "</mark>\n",
              ", had been found and was “back with her family”. She had been located near the zoo, the statement said. But the news came \n",
              "<mark class=\"entity\" style=\"background: #bfe1d9; padding: 0.45em 0.6em; margin: 0 0.25em; line-height: 1; border-radius: 0.35em;\">\n",
              "    a day\n",
              "    <span style=\"font-size: 0.8em; font-weight: bold; line-height: 1; border-radius: 0.35em; vertical-align: middle; margin-left: 0.5rem\">DATE</span>\n",
              "</mark>\n",
              " after the zoo announced that another escaped wolf, \n",
              "<mark class=\"entity\" style=\"background: #aa9cfc; padding: 0.45em 0.6em; margin: 0 0.25em; line-height: 1; border-radius: 0.35em;\">\n",
              "    Chia\n",
              "    <span style=\"font-size: 0.8em; font-weight: bold; line-height: 1; border-radius: 0.35em; vertical-align: middle; margin-left: 0.5rem\">PERSON</span>\n",
              "</mark>\n",
              ", had died, probably after being hit by a car. “We are so grateful for this positive outcome for \n",
              "<mark class=\"entity\" style=\"background: #7aecec; padding: 0.45em 0.6em; margin: 0 0.25em; line-height: 1; border-radius: 0.35em;\">\n",
              "    Tempest\n",
              "    <span style=\"font-size: 0.8em; font-weight: bold; line-height: 1; border-radius: 0.35em; vertical-align: middle; margin-left: 0.5rem\">ORG</span>\n",
              "</mark>\n",
              " but are still processing the loss of \n",
              "<mark class=\"entity\" style=\"background: #feca74; padding: 0.45em 0.6em; margin: 0 0.25em; line-height: 1; border-radius: 0.35em;\">\n",
              "    Chia\n",
              "    <span style=\"font-size: 0.8em; font-weight: bold; line-height: 1; border-radius: 0.35em; vertical-align: middle; margin-left: 0.5rem\">GPE</span>\n",
              "</mark>\n",
              ",” the zoo’s statement said, adding it hoped to finally reopen on \n",
              "<mark class=\"entity\" style=\"background: #bfe1d9; padding: 0.45em 0.6em; margin: 0 0.25em; line-height: 1; border-radius: 0.35em;\">\n",
              "    Saturday\n",
              "    <span style=\"font-size: 0.8em; font-weight: bold; line-height: 1; border-radius: 0.35em; vertical-align: middle; margin-left: 0.5rem\">DATE</span>\n",
              "</mark>\n",
              ". The zoo announced on \n",
              "<mark class=\"entity\" style=\"background: #bfe1d9; padding: 0.45em 0.6em; margin: 0 0.25em; line-height: 1; border-radius: 0.35em;\">\n",
              "    Tuesday\n",
              "    <span style=\"font-size: 0.8em; font-weight: bold; line-height: 1; border-radius: 0.35em; vertical-align: middle; margin-left: 0.5rem\">DATE</span>\n",
              "</mark>\n",
              " \n",
              "<mark class=\"entity\" style=\"background: #bfe1d9; padding: 0.45em 0.6em; margin: 0 0.25em; line-height: 1; border-radius: 0.35em;\">\n",
              "    morning\n",
              "    <span style=\"font-size: 0.8em; font-weight: bold; line-height: 1; border-radius: 0.35em; vertical-align: middle; margin-left: 0.5rem\">TIME</span>\n",
              "</mark>\n",
              " it would not open to crowds \n",
              "<mark class=\"entity\" style=\"background: #bfe1d9; padding: 0.45em 0.6em; margin: 0 0.25em; line-height: 1; border-radius: 0.35em;\">\n",
              "    that day\n",
              "    <span style=\"font-size: 0.8em; font-weight: bold; line-height: 1; border-radius: 0.35em; vertical-align: middle; margin-left: 0.5rem\">DATE</span>\n",
              "</mark>\n",
              ". It later acknowledged that a pack of grey wolves had escaped after “suspicious” damage to the fence of their enclosure. The zoo said the incident was probably the result of “malicious \n",
              "<mark class=\"entity\" style=\"background: #feca74; padding: 0.45em 0.6em; margin: 0 0.25em; line-height: 1; border-radius: 0.35em;\">\n",
              "    intent”\n",
              "    <span style=\"font-size: 0.8em; font-weight: bold; line-height: 1; border-radius: 0.35em; vertical-align: middle; margin-left: 0.5rem\">GPE</span>\n",
              "</mark>\n",
              ".\n",
              "<mark class=\"entity\" style=\"background: #feca74; padding: 0.45em 0.6em; margin: 0 0.25em; line-height: 1; border-radius: 0.35em;\">\n",
              "    Canada\n",
              "    <span style=\"font-size: 0.8em; font-weight: bold; line-height: 1; border-radius: 0.35em; vertical-align: middle; margin-left: 0.5rem\">GPE</span>\n",
              "</mark>\n",
              " conservation officers seek runaway wolf days after zoo break-inRead moreOpened in \n",
              "<mark class=\"entity\" style=\"background: #bfe1d9; padding: 0.45em 0.6em; margin: 0 0.25em; line-height: 1; border-radius: 0.35em;\">\n",
              "    1970\n",
              "    <span style=\"font-size: 0.8em; font-weight: bold; line-height: 1; border-radius: 0.35em; vertical-align: middle; margin-left: 0.5rem\">DATE</span>\n",
              "</mark>\n",
              ", the tourist attraction has \n",
              "<mark class=\"entity\" style=\"background: #e4e7d2; padding: 0.45em 0.6em; margin: 0 0.25em; line-height: 1; border-radius: 0.35em;\">\n",
              "    nine\n",
              "    <span style=\"font-size: 0.8em; font-weight: bold; line-height: 1; border-radius: 0.35em; vertical-align: middle; margin-left: 0.5rem\">CARDINAL</span>\n",
              "</mark>\n",
              " adult grey wolves and \n",
              "<mark class=\"entity\" style=\"background: #e4e7d2; padding: 0.45em 0.6em; margin: 0 0.25em; line-height: 1; border-radius: 0.35em;\">\n",
              "    six\n",
              "    <span style=\"font-size: 0.8em; font-weight: bold; line-height: 1; border-radius: 0.35em; vertical-align: middle; margin-left: 0.5rem\">CARDINAL</span>\n",
              "</mark>\n",
              " pups. Staff did not confirm how many had initially escaped after the fence was broken, nor did it say how many remained unaccounted for. \n",
              "<mark class=\"entity\" style=\"background: #7aecec; padding: 0.45em 0.6em; margin: 0 0.25em; line-height: 1; border-radius: 0.35em;\">\n",
              "    The Royal Canadian Mounted Police\n",
              "    <span style=\"font-size: 0.8em; font-weight: bold; line-height: 1; border-radius: 0.35em; vertical-align: middle; margin-left: 0.5rem\">ORG</span>\n",
              "</mark>\n",
              " are investigating the break-in, but a lack of surveillance footage has made it difficult to identify any suspects.\n",
              "<mark class=\"entity\" style=\"background: #7aecec; padding: 0.45em 0.6em; margin: 0 0.25em; line-height: 1; border-radius: 0.35em;\">\n",
              "    The Greater Vancouver Zoo\n",
              "    <span style=\"font-size: 0.8em; font-weight: bold; line-height: 1; border-radius: 0.35em; vertical-align: middle; margin-left: 0.5rem\">ORG</span>\n",
              "</mark>\n",
              " is seen in \n",
              "<mark class=\"entity\" style=\"background: #feca74; padding: 0.45em 0.6em; margin: 0 0.25em; line-height: 1; border-radius: 0.35em;\">\n",
              "    Langley\n",
              "    <span style=\"font-size: 0.8em; font-weight: bold; line-height: 1; border-radius: 0.35em; vertical-align: middle; margin-left: 0.5rem\">GPE</span>\n",
              "</mark>\n",
              ", \n",
              "<mark class=\"entity\" style=\"background: #feca74; padding: 0.45em 0.6em; margin: 0 0.25em; line-height: 1; border-radius: 0.35em;\">\n",
              "    British Columbia\n",
              "    <span style=\"font-size: 0.8em; font-weight: bold; line-height: 1; border-radius: 0.35em; vertical-align: middle; margin-left: 0.5rem\">GPE</span>\n",
              "</mark>\n",
              ". I can just tell you that there was damage done to the enclosure to allow the wolves to exit. At this point, there’s no surveillance, so we don’t have any information to indicate how they got in or suspect information,” said \n",
              "<mark class=\"entity\" style=\"background: #aa9cfc; padding: 0.45em 0.6em; margin: 0 0.25em; line-height: 1; border-radius: 0.35em;\">\n",
              "    Cpl Holly Largy\n",
              "    <span style=\"font-size: 0.8em; font-weight: bold; line-height: 1; border-radius: 0.35em; vertical-align: middle; margin-left: 0.5rem\">PERSON</span>\n",
              "</mark>\n",
              " of Langley RCMP. Located outside \n",
              "<mark class=\"entity\" style=\"background: #feca74; padding: 0.45em 0.6em; margin: 0 0.25em; line-height: 1; border-radius: 0.35em;\">\n",
              "    Vancouver\n",
              "    <span style=\"font-size: 0.8em; font-weight: bold; line-height: 1; border-radius: 0.35em; vertical-align: middle; margin-left: 0.5rem\">GPE</span>\n",
              "</mark>\n",
              ", the zoo spans \n",
              "<mark class=\"entity\" style=\"background: #e4e7d2; padding: 0.45em 0.6em; margin: 0 0.25em; line-height: 1; border-radius: 0.35em;\">\n",
              "    120 acres\n",
              "    <span style=\"font-size: 0.8em; font-weight: bold; line-height: 1; border-radius: 0.35em; vertical-align: middle; margin-left: 0.5rem\">QUANTITY</span>\n",
              "</mark>\n",
              " in the Fraser Valley and is close to a large forested area that contains a naval radio communications facility. Animal rights activists have in \n",
              "<mark class=\"entity\" style=\"background: #bfe1d9; padding: 0.45em 0.6em; margin: 0 0.25em; line-height: 1; border-radius: 0.35em;\">\n",
              "    recent years\n",
              "    <span style=\"font-size: 0.8em; font-weight: bold; line-height: 1; border-radius: 0.35em; vertical-align: middle; margin-left: 0.5rem\">DATE</span>\n",
              "</mark>\n",
              " focused on the zoo following \n",
              "<mark class=\"entity\" style=\"background: #e4e7d2; padding: 0.45em 0.6em; margin: 0 0.25em; line-height: 1; border-radius: 0.35em;\">\n",
              "    two\n",
              "    <span style=\"font-size: 0.8em; font-weight: bold; line-height: 1; border-radius: 0.35em; vertical-align: middle; margin-left: 0.5rem\">CARDINAL</span>\n",
              "</mark>\n",
              " attacks: \n",
              "<mark class=\"entity\" style=\"background: #e4e7d2; padding: 0.45em 0.6em; margin: 0 0.25em; line-height: 1; border-radius: 0.35em;\">\n",
              "    one\n",
              "    <span style=\"font-size: 0.8em; font-weight: bold; line-height: 1; border-radius: 0.35em; vertical-align: middle; margin-left: 0.5rem\">CARDINAL</span>\n",
              "</mark>\n",
              " on a girl who was bitten by a black bear, and another on a staff member attacked by a jaguar. In \n",
              "<mark class=\"entity\" style=\"background: #bfe1d9; padding: 0.45em 0.6em; margin: 0 0.25em; line-height: 1; border-radius: 0.35em;\">\n",
              "    2019\n",
              "    <span style=\"font-size: 0.8em; font-weight: bold; line-height: 1; border-radius: 0.35em; vertical-align: middle; margin-left: 0.5rem\">DATE</span>\n",
              "</mark>\n",
              ", \n",
              "<mark class=\"entity\" style=\"background: #9cc9cc; padding: 0.45em 0.6em; margin: 0 0.25em; line-height: 1; border-radius: 0.35em;\">\n",
              "    the Vancouver Humane Society\n",
              "    <span style=\"font-size: 0.8em; font-weight: bold; line-height: 1; border-radius: 0.35em; vertical-align: middle; margin-left: 0.5rem\">FAC</span>\n",
              "</mark>\n",
              " released a report criticizing the zoo. In \n",
              "<mark class=\"entity\" style=\"background: #bfe1d9; padding: 0.45em 0.6em; margin: 0 0.25em; line-height: 1; border-radius: 0.35em;\">\n",
              "    2020\n",
              "    <span style=\"font-size: 0.8em; font-weight: bold; line-height: 1; border-radius: 0.35em; vertical-align: middle; margin-left: 0.5rem\">DATE</span>\n",
              "</mark>\n",
              ", the owners of the zoo spent \n",
              "<mark class=\"entity\" style=\"background: #e4e7d2; padding: 0.45em 0.6em; margin: 0 0.25em; line-height: 1; border-radius: 0.35em;\">\n",
              "    millions\n",
              "    <span style=\"font-size: 0.8em; font-weight: bold; line-height: 1; border-radius: 0.35em; vertical-align: middle; margin-left: 0.5rem\">CARDINAL</span>\n",
              "</mark>\n",
              " on a “major overhaul” of the facility. The apparent act of vandalism also comes as the plight of wolves, which once thrived in the region, faces activists’ scrutiny. \n",
              "<mark class=\"entity\" style=\"background: #bfe1d9; padding: 0.45em 0.6em; margin: 0 0.25em; line-height: 1; border-radius: 0.35em;\">\n",
              "    This year\n",
              "    <span style=\"font-size: 0.8em; font-weight: bold; line-height: 1; border-radius: 0.35em; vertical-align: middle; margin-left: 0.5rem\">DATE</span>\n",
              "</mark>\n",
              ", the province extended its aerial wolf cull for \n",
              "<mark class=\"entity\" style=\"background: #bfe1d9; padding: 0.45em 0.6em; margin: 0 0.25em; line-height: 1; border-radius: 0.35em;\">\n",
              "    another five years\n",
              "    <span style=\"font-size: 0.8em; font-weight: bold; line-height: 1; border-radius: 0.35em; vertical-align: middle; margin-left: 0.5rem\">DATE</span>\n",
              "</mark>\n",
              ". The controversial program kills \n",
              "<mark class=\"entity\" style=\"background: #e4e7d2; padding: 0.45em 0.6em; margin: 0 0.25em; line-height: 1; border-radius: 0.35em;\">\n",
              "    as many as 300\n",
              "    <span style=\"font-size: 0.8em; font-weight: bold; line-height: 1; border-radius: 0.35em; vertical-align: middle; margin-left: 0.5rem\">CARDINAL</span>\n",
              "</mark>\n",
              " wolves a year in an effort to save \n",
              "<mark class=\"entity\" style=\"background: #aa9cfc; padding: 0.45em 0.6em; margin: 0 0.25em; line-height: 1; border-radius: 0.35em;\">\n",
              "    woodland caribou\n",
              "    <span style=\"font-size: 0.8em; font-weight: bold; line-height: 1; border-radius: 0.35em; vertical-align: middle; margin-left: 0.5rem\">PERSON</span>\n",
              "</mark>\n",
              ".</div></span>"
            ]
          },
          "metadata": {}
        }
      ]
    },
    {
      "cell_type": "markdown",
      "source": [
        "To conclude, the above sentence and article showed what a Named Entity Recognition is, what it is used for, and how it works."
      ],
      "metadata": {
        "id": "ewccg6GWvbPl"
      }
    }
  ]
}